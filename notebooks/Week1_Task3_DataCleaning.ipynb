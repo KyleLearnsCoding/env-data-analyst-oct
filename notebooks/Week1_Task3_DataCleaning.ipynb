{
 "cells": [
  {
   "cell_type": "code",
   "execution_count": 1,
   "id": "9887ea28",
   "metadata": {},
   "outputs": [
    {
     "name": "stdout",
     "output_type": "stream",
     "text": [
      "Python: c:\\Users\\chamb\\env-data-analyst-oct\\notebooks\\.venv\\Scripts\\python.exe\n",
      "Pandas: 2.3.3\n"
     ]
    }
   ],
   "source": [
    "#confirm connection to python Kernel and pandas version\n",
    "import sys, pandas as pd\n",
    "print(\"Python:\", sys.executable)\n",
    "print(\"Pandas:\", pd.__version__)\n"
   ]
  },
  {
   "cell_type": "code",
   "execution_count": 2,
   "id": "1676eb79",
   "metadata": {},
   "outputs": [
    {
     "data": {
      "text/html": [
       "<div>\n",
       "<style scoped>\n",
       "    .dataframe tbody tr th:only-of-type {\n",
       "        vertical-align: middle;\n",
       "    }\n",
       "\n",
       "    .dataframe tbody tr th {\n",
       "        vertical-align: top;\n",
       "    }\n",
       "\n",
       "    .dataframe thead th {\n",
       "        text-align: right;\n",
       "    }\n",
       "</style>\n",
       "<table border=\"1\" class=\"dataframe\">\n",
       "  <thead>\n",
       "    <tr style=\"text-align: right;\">\n",
       "      <th></th>\n",
       "      <th>site_id</th>\n",
       "      <th>date</th>\n",
       "      <th>nitrate_mgL</th>\n",
       "      <th>phosphate_mgL</th>\n",
       "      <th>turbidity_NTU</th>\n",
       "      <th>temp_C</th>\n",
       "      <th>county</th>\n",
       "      <th>state</th>\n",
       "    </tr>\n",
       "  </thead>\n",
       "  <tbody>\n",
       "    <tr>\n",
       "      <th>0</th>\n",
       "      <td>WC-001</td>\n",
       "      <td>2025-09-28</td>\n",
       "      <td>2.3</td>\n",
       "      <td>0.12</td>\n",
       "      <td>3.1</td>\n",
       "      <td>14.5</td>\n",
       "      <td>Willow Creek</td>\n",
       "      <td>OR</td>\n",
       "    </tr>\n",
       "    <tr>\n",
       "      <th>1</th>\n",
       "      <td>WC-002</td>\n",
       "      <td>2025-09-28</td>\n",
       "      <td>NaN</td>\n",
       "      <td>0.05</td>\n",
       "      <td>1.0</td>\n",
       "      <td>13.8</td>\n",
       "      <td>willow creek</td>\n",
       "      <td>OR</td>\n",
       "    </tr>\n",
       "    <tr>\n",
       "      <th>2</th>\n",
       "      <td>WC-003</td>\n",
       "      <td>2025-09-28</td>\n",
       "      <td>5.8</td>\n",
       "      <td>NaN</td>\n",
       "      <td>8.9</td>\n",
       "      <td>12.4</td>\n",
       "      <td>Willow Creek</td>\n",
       "      <td>OR</td>\n",
       "    </tr>\n",
       "    <tr>\n",
       "      <th>3</th>\n",
       "      <td>WC-004</td>\n",
       "      <td>2025-09-29</td>\n",
       "      <td>0.8</td>\n",
       "      <td>0.03</td>\n",
       "      <td>0.6</td>\n",
       "      <td>NaN</td>\n",
       "      <td>Willow Creek</td>\n",
       "      <td>OR</td>\n",
       "    </tr>\n",
       "    <tr>\n",
       "      <th>4</th>\n",
       "      <td>WC-005</td>\n",
       "      <td>2025-09-29</td>\n",
       "      <td>12.1</td>\n",
       "      <td>0.20</td>\n",
       "      <td>15.2</td>\n",
       "      <td>10.1</td>\n",
       "      <td>North Fork</td>\n",
       "      <td>OR</td>\n",
       "    </tr>\n",
       "  </tbody>\n",
       "</table>\n",
       "</div>"
      ],
      "text/plain": [
       "  site_id       date  nitrate_mgL  phosphate_mgL  turbidity_NTU  temp_C  \\\n",
       "0  WC-001 2025-09-28          2.3           0.12            3.1    14.5   \n",
       "1  WC-002 2025-09-28          NaN           0.05            1.0    13.8   \n",
       "2  WC-003 2025-09-28          5.8            NaN            8.9    12.4   \n",
       "3  WC-004 2025-09-29          0.8           0.03            0.6     NaN   \n",
       "4  WC-005 2025-09-29         12.1           0.20           15.2    10.1   \n",
       "\n",
       "         county state  \n",
       "0  Willow Creek    OR  \n",
       "1  willow creek    OR  \n",
       "2  Willow Creek    OR  \n",
       "3  Willow Creek    OR  \n",
       "4    North Fork    OR  "
      ]
     },
     "execution_count": 2,
     "metadata": {},
     "output_type": "execute_result"
    }
   ],
   "source": [
    "#Load data from csv\n",
    "import pandas as pd\n",
    "df = pd.read_csv(\"week1_task3_water_quality_sample.csv\", parse_dates=[\"date\"])\n",
    "df.head()\n"
   ]
  },
  {
   "cell_type": "code",
   "execution_count": 3,
   "id": "80a49fa0",
   "metadata": {},
   "outputs": [
    {
     "name": "stdout",
     "output_type": "stream",
     "text": [
      "Shape (rows, columns): (10, 8)\n",
      "\n",
      "Dtypes:\n",
      "site_id                  object\n",
      "date             datetime64[ns]\n",
      "nitrate_mgL             float64\n",
      "phosphate_mgL           float64\n",
      "turbidity_NTU           float64\n",
      "temp_C                  float64\n",
      "county                   object\n",
      "state                    object\n"
     ]
    }
   ],
   "source": [
    "# ============================================\n",
    "# Week 1 · Task 3 — Step 2: Missing-Values Diagnostics (READ-ONLY)\n",
    "# Assumes you already ran:\n",
    "#   df = pd.read_csv(\"week1_task3_water_quality_sample.csv\", parse_dates=[\"date\"])\n",
    "# This cell inspects the dataset for nulls so we can choose a cleanup strategy next.\n",
    "# ============================================\n",
    "\n",
    "#1 Basic shape and data types\n",
    "print(\"Shape (rows, columns):\", df.shape)\n",
    "print(\"\\nDtypes:\")\n",
    "print(df.dtypes.to_string())"
   ]
  },
  {
   "cell_type": "code",
   "execution_count": 4,
   "id": "3d50966d",
   "metadata": {},
   "outputs": [
    {
     "name": "stdout",
     "output_type": "stream",
     "text": [
      "\n",
      "Missing values per column:\n",
      "phosphate_mgL    2\n",
      "nitrate_mgL      2\n",
      "temp_C           1\n",
      "turbidity_NTU    1\n",
      "site_id          0\n",
      "date             0\n",
      "county           0\n",
      "state            0\n"
     ]
    }
   ],
   "source": [
    "#Count missing values per column (sorted, highest first)\n",
    "na_counts = df.isna().sum().sort_values(ascending=False)\n",
    "print(\"\\nMissing values per column:\")\n",
    "print(na_counts.to_string())"
   ]
  },
  {
   "cell_type": "code",
   "execution_count": 5,
   "id": "60909113",
   "metadata": {},
   "outputs": [
    {
     "name": "stdout",
     "output_type": "stream",
     "text": [
      "\n",
      "Rows with any missing values (show first 10):\n"
     ]
    },
    {
     "data": {
      "text/html": [
       "<div>\n",
       "<style scoped>\n",
       "    .dataframe tbody tr th:only-of-type {\n",
       "        vertical-align: middle;\n",
       "    }\n",
       "\n",
       "    .dataframe tbody tr th {\n",
       "        vertical-align: top;\n",
       "    }\n",
       "\n",
       "    .dataframe thead th {\n",
       "        text-align: right;\n",
       "    }\n",
       "</style>\n",
       "<table border=\"1\" class=\"dataframe\">\n",
       "  <thead>\n",
       "    <tr style=\"text-align: right;\">\n",
       "      <th></th>\n",
       "      <th>site_id</th>\n",
       "      <th>date</th>\n",
       "      <th>nitrate_mgL</th>\n",
       "      <th>phosphate_mgL</th>\n",
       "      <th>turbidity_NTU</th>\n",
       "      <th>temp_C</th>\n",
       "      <th>county</th>\n",
       "      <th>state</th>\n",
       "    </tr>\n",
       "  </thead>\n",
       "  <tbody>\n",
       "    <tr>\n",
       "      <th>1</th>\n",
       "      <td>WC-002</td>\n",
       "      <td>2025-09-28</td>\n",
       "      <td>NaN</td>\n",
       "      <td>0.05</td>\n",
       "      <td>1.0</td>\n",
       "      <td>13.8</td>\n",
       "      <td>willow creek</td>\n",
       "      <td>OR</td>\n",
       "    </tr>\n",
       "    <tr>\n",
       "      <th>2</th>\n",
       "      <td>WC-003</td>\n",
       "      <td>2025-09-28</td>\n",
       "      <td>5.8</td>\n",
       "      <td>NaN</td>\n",
       "      <td>8.9</td>\n",
       "      <td>12.4</td>\n",
       "      <td>Willow Creek</td>\n",
       "      <td>OR</td>\n",
       "    </tr>\n",
       "    <tr>\n",
       "      <th>3</th>\n",
       "      <td>WC-004</td>\n",
       "      <td>2025-09-29</td>\n",
       "      <td>0.8</td>\n",
       "      <td>0.03</td>\n",
       "      <td>0.6</td>\n",
       "      <td>NaN</td>\n",
       "      <td>Willow Creek</td>\n",
       "      <td>OR</td>\n",
       "    </tr>\n",
       "    <tr>\n",
       "      <th>5</th>\n",
       "      <td>WC-006</td>\n",
       "      <td>2025-09-30</td>\n",
       "      <td>NaN</td>\n",
       "      <td>0.07</td>\n",
       "      <td>2.2</td>\n",
       "      <td>11.0</td>\n",
       "      <td>North Fork</td>\n",
       "      <td>OR</td>\n",
       "    </tr>\n",
       "    <tr>\n",
       "      <th>6</th>\n",
       "      <td>WC-007</td>\n",
       "      <td>2025-09-30</td>\n",
       "      <td>3.0</td>\n",
       "      <td>0.02</td>\n",
       "      <td>NaN</td>\n",
       "      <td>9.7</td>\n",
       "      <td>South Fork</td>\n",
       "      <td>OR</td>\n",
       "    </tr>\n",
       "    <tr>\n",
       "      <th>9</th>\n",
       "      <td>WC-010</td>\n",
       "      <td>2025-10-02</td>\n",
       "      <td>0.5</td>\n",
       "      <td>NaN</td>\n",
       "      <td>0.5</td>\n",
       "      <td>8.1</td>\n",
       "      <td>South Fork</td>\n",
       "      <td>OR</td>\n",
       "    </tr>\n",
       "  </tbody>\n",
       "</table>\n",
       "</div>"
      ],
      "text/plain": [
       "  site_id       date  nitrate_mgL  phosphate_mgL  turbidity_NTU  temp_C  \\\n",
       "1  WC-002 2025-09-28          NaN           0.05            1.0    13.8   \n",
       "2  WC-003 2025-09-28          5.8            NaN            8.9    12.4   \n",
       "3  WC-004 2025-09-29          0.8           0.03            0.6     NaN   \n",
       "5  WC-006 2025-09-30          NaN           0.07            2.2    11.0   \n",
       "6  WC-007 2025-09-30          3.0           0.02            NaN     9.7   \n",
       "9  WC-010 2025-10-02          0.5            NaN            0.5     8.1   \n",
       "\n",
       "         county state  \n",
       "1  willow creek    OR  \n",
       "2  Willow Creek    OR  \n",
       "3  Willow Creek    OR  \n",
       "5    North Fork    OR  \n",
       "6    South Fork    OR  \n",
       "9    South Fork    OR  "
      ]
     },
     "execution_count": 5,
     "metadata": {},
     "output_type": "execute_result"
    }
   ],
   "source": [
    "#Quick peek at rows that contain ANY missing values (top 10)\n",
    "rows_with_na = df[df.isna().any(axis=1)]    #axis=1 means across columns horizontally per row(0 would mean down each column), .any() means \"true\" for .isna()\n",
    "print(\"\\nRows with any missing values (show first 10):\")\n",
    "rows_with_na.head((10))"
   ]
  },
  {
   "cell_type": "code",
   "execution_count": 6,
   "id": "7471c33c",
   "metadata": {},
   "outputs": [
    {
     "name": "stdout",
     "output_type": "stream",
     "text": [
      "Before fill - NaNs per column:\n",
      "site_id          0\n",
      "date             0\n",
      "nitrate_mgL      2\n",
      "phosphate_mgL    2\n",
      "turbidity_NTU    1\n",
      "temp_C           1\n",
      "county           0\n",
      "state            0 \n",
      "\n"
     ]
    }
   ],
   "source": [
    "# ============================================\n",
    "# Week 1 · Task 3 — Step 3: Handle Missing Values (WRITE changes)\n",
    "# Assumes df is already loaded from:\n",
    "#   df = pd.read_csv(\"week1_task3_water_quality_sample.csv\", parse_dates=[\"date\"])\n",
    "# Strategy:\n",
    "# - Numeric columns: fill NaN with the column median\n",
    "# - Text columns: standardize casing / fill simple placeholders\n",
    "# ============================================\n",
    "\n",
    "import numpy as np\n",
    "\n",
    "#1 Preview current missing values\n",
    "print(\"Before fill - NaNs per column:\")\n",
    "print(df.isna().sum().to_string(), \"\\n\")"
   ]
  },
  {
   "cell_type": "code",
   "execution_count": 7,
   "id": "b0aa3c3b",
   "metadata": {},
   "outputs": [],
   "source": [
    "#2 Fill numeric columns with median\n",
    "numeric_cols = [\"nitrate_mgL\", \"phosphate_mgL\", \"turbidity_NTU\", \"temp_C\"]\n",
    "for col in numeric_cols:    #loop through the list of numeric_cols\n",
    "    if col in df.columns:   #if in numeric_col and a column of df, do the following\n",
    "        median_val = df[col].median(skipna=True)    #a function for finding median value, skipping NaNye values\n",
    "        df[col] = df[col].fillna(median_val) #in column that is in df and numeric_col, execute this function that replaces NaN values with the result of our median funciton"
   ]
  },
  {
   "cell_type": "code",
   "execution_count": 8,
   "id": "4d495231",
   "metadata": {},
   "outputs": [],
   "source": [
    "#3 Light cleanup for text columns\n",
    "#county: title case (eg. 'willow creek', -> 'Willow Creek')\n",
    "if \"county\" in df.columns:\n",
    "    df[\"county\"] = df[\"county\"].astype(str).str.strip().str.title() #str.strip() removes white spaces\n",
    "\n",
    "#state: fill missing with 'Unknown' (you can change this later)\n",
    "if \"state\" in df.columns:\n",
    "    df[\"state\"] = df[\"state\"].fillna(\"Unknown\").astype(str).str.strip().str.upper() #note: astype(str) sets the type as string, it isnt searching for a string"
   ]
  },
  {
   "cell_type": "code",
   "execution_count": 9,
   "id": "d59952c1",
   "metadata": {},
   "outputs": [
    {
     "name": "stdout",
     "output_type": "stream",
     "text": [
      "After fill - NaN per column:\n",
      "site_id          0\n",
      "date             0\n",
      "nitrate_mgL      0\n",
      "phosphate_mgL    0\n",
      "turbidity_NTU    0\n",
      "temp_C           0\n",
      "county           0\n",
      "state            0\n"
     ]
    }
   ],
   "source": [
    "#4 Verify results\n",
    "print(\"After fill - NaN per column:\")\n",
    "print(df.isna().sum().to_string())"
   ]
  },
  {
   "cell_type": "code",
   "execution_count": 10,
   "id": "b4abad84",
   "metadata": {},
   "outputs": [
    {
     "name": "stdout",
     "output_type": "stream",
     "text": [
      "\n",
      "Sample of cleaned rows (first 8):\n"
     ]
    },
    {
     "data": {
      "text/html": [
       "<div>\n",
       "<style scoped>\n",
       "    .dataframe tbody tr th:only-of-type {\n",
       "        vertical-align: middle;\n",
       "    }\n",
       "\n",
       "    .dataframe tbody tr th {\n",
       "        vertical-align: top;\n",
       "    }\n",
       "\n",
       "    .dataframe thead th {\n",
       "        text-align: right;\n",
       "    }\n",
       "</style>\n",
       "<table border=\"1\" class=\"dataframe\">\n",
       "  <thead>\n",
       "    <tr style=\"text-align: right;\">\n",
       "      <th></th>\n",
       "      <th>site_id</th>\n",
       "      <th>date</th>\n",
       "      <th>nitrate_mgL</th>\n",
       "      <th>phosphate_mgL</th>\n",
       "      <th>turbidity_NTU</th>\n",
       "      <th>temp_C</th>\n",
       "      <th>county</th>\n",
       "      <th>state</th>\n",
       "    </tr>\n",
       "  </thead>\n",
       "  <tbody>\n",
       "    <tr>\n",
       "      <th>0</th>\n",
       "      <td>WC-001</td>\n",
       "      <td>2025-09-28</td>\n",
       "      <td>2.30</td>\n",
       "      <td>0.12</td>\n",
       "      <td>3.1</td>\n",
       "      <td>14.5</td>\n",
       "      <td>Willow Creek</td>\n",
       "      <td>OR</td>\n",
       "    </tr>\n",
       "    <tr>\n",
       "      <th>1</th>\n",
       "      <td>WC-002</td>\n",
       "      <td>2025-09-28</td>\n",
       "      <td>2.65</td>\n",
       "      <td>0.05</td>\n",
       "      <td>1.0</td>\n",
       "      <td>13.8</td>\n",
       "      <td>Willow Creek</td>\n",
       "      <td>OR</td>\n",
       "    </tr>\n",
       "    <tr>\n",
       "      <th>2</th>\n",
       "      <td>WC-003</td>\n",
       "      <td>2025-09-28</td>\n",
       "      <td>5.80</td>\n",
       "      <td>0.06</td>\n",
       "      <td>8.9</td>\n",
       "      <td>12.4</td>\n",
       "      <td>Willow Creek</td>\n",
       "      <td>OR</td>\n",
       "    </tr>\n",
       "    <tr>\n",
       "      <th>3</th>\n",
       "      <td>WC-004</td>\n",
       "      <td>2025-09-29</td>\n",
       "      <td>0.80</td>\n",
       "      <td>0.03</td>\n",
       "      <td>0.6</td>\n",
       "      <td>10.1</td>\n",
       "      <td>Willow Creek</td>\n",
       "      <td>OR</td>\n",
       "    </tr>\n",
       "    <tr>\n",
       "      <th>4</th>\n",
       "      <td>WC-005</td>\n",
       "      <td>2025-09-29</td>\n",
       "      <td>12.10</td>\n",
       "      <td>0.20</td>\n",
       "      <td>15.2</td>\n",
       "      <td>10.1</td>\n",
       "      <td>North Fork</td>\n",
       "      <td>OR</td>\n",
       "    </tr>\n",
       "    <tr>\n",
       "      <th>5</th>\n",
       "      <td>WC-006</td>\n",
       "      <td>2025-09-30</td>\n",
       "      <td>2.65</td>\n",
       "      <td>0.07</td>\n",
       "      <td>2.2</td>\n",
       "      <td>11.0</td>\n",
       "      <td>North Fork</td>\n",
       "      <td>OR</td>\n",
       "    </tr>\n",
       "    <tr>\n",
       "      <th>6</th>\n",
       "      <td>WC-007</td>\n",
       "      <td>2025-09-30</td>\n",
       "      <td>3.00</td>\n",
       "      <td>0.02</td>\n",
       "      <td>2.2</td>\n",
       "      <td>9.7</td>\n",
       "      <td>South Fork</td>\n",
       "      <td>OR</td>\n",
       "    </tr>\n",
       "    <tr>\n",
       "      <th>7</th>\n",
       "      <td>WC-008</td>\n",
       "      <td>2025-10-01</td>\n",
       "      <td>1.10</td>\n",
       "      <td>0.01</td>\n",
       "      <td>0.3</td>\n",
       "      <td>8.8</td>\n",
       "      <td>South Fork</td>\n",
       "      <td>OR</td>\n",
       "    </tr>\n",
       "  </tbody>\n",
       "</table>\n",
       "</div>"
      ],
      "text/plain": [
       "  site_id       date  nitrate_mgL  phosphate_mgL  turbidity_NTU  temp_C  \\\n",
       "0  WC-001 2025-09-28         2.30           0.12            3.1    14.5   \n",
       "1  WC-002 2025-09-28         2.65           0.05            1.0    13.8   \n",
       "2  WC-003 2025-09-28         5.80           0.06            8.9    12.4   \n",
       "3  WC-004 2025-09-29         0.80           0.03            0.6    10.1   \n",
       "4  WC-005 2025-09-29        12.10           0.20           15.2    10.1   \n",
       "5  WC-006 2025-09-30         2.65           0.07            2.2    11.0   \n",
       "6  WC-007 2025-09-30         3.00           0.02            2.2     9.7   \n",
       "7  WC-008 2025-10-01         1.10           0.01            0.3     8.8   \n",
       "\n",
       "         county state  \n",
       "0  Willow Creek    OR  \n",
       "1  Willow Creek    OR  \n",
       "2  Willow Creek    OR  \n",
       "3  Willow Creek    OR  \n",
       "4    North Fork    OR  \n",
       "5    North Fork    OR  \n",
       "6    South Fork    OR  \n",
       "7    South Fork    OR  "
      ]
     },
     "execution_count": 10,
     "metadata": {},
     "output_type": "execute_result"
    }
   ],
   "source": [
    "# Optional: Show the rows that previously had NaNs to confirm they’re now filled\n",
    "print(\"\\nSample of cleaned rows (first 8):\")\n",
    "df.head(8)"
   ]
  },
  {
   "cell_type": "code",
   "execution_count": 11,
   "id": "f1b78c64",
   "metadata": {},
   "outputs": [
    {
     "name": "stdout",
     "output_type": "stream",
     "text": [
      "Rows in Willow Creek subset: 4\n"
     ]
    }
   ],
   "source": [
    "# ============================================\n",
    "# Week 1 · Task 3 — Step 5: Filter Rows (READ-ONLY practice)\n",
    "# We'll make small, labeled subsets just to practice filtering logic.\n",
    "# ============================================\n",
    "\n",
    "# 1) Categorical filter: choose one county\n",
    "df_willow = df[df[\"county\"] == \"Willow Creek\"].copy()   #df[...] uses Boolean fcn in pandas, .copy() keeps df_willow separate from df, funciton results in True or False for each row in column\n",
    "print(\"Rows in Willow Creek subset:\", len(df_willow))   #len() counts number of rows in our new df_willow object or what is called a DataFrame in pandas\n",
    "#a DataFrame stores both values and the functions to be performed on those values (\"what to do with the values\")"
   ]
  },
  {
   "cell_type": "code",
   "execution_count": 16,
   "id": "263aeae8",
   "metadata": {},
   "outputs": [
    {
     "name": "stdout",
     "output_type": "stream",
     "text": [
      "Rows with nitrate > 5 mg/L: 3\n"
     ]
    }
   ],
   "source": [
    "#2 Numeric filter: high nitrate (>5 mg/L)\n",
    "df_nitrate_high = df[df[\"nitrate_mgL\"] > 5].copy()  #note the inner df[...] produces true/false results, and the outer df[...] is where those results are applied to the actual data set and selects \"true\" rows of data\n",
    "print(\"Rows with nitrate > 5 mg/L:\", len(df_nitrate_high))  #without len() would get actual rows of data"
   ]
  },
  {
   "cell_type": "code",
   "execution_count": 17,
   "id": "74293a8a",
   "metadata": {},
   "outputs": [
    {
     "name": "stdout",
     "output_type": "stream",
     "text": [
      "Rows with turbidity <= 5 NTU: 7\n"
     ]
    }
   ],
   "source": [
    "#3 Numeric filter: moderate turbidity (<= 5 NTU)\n",
    "df_turbidity_ok = df[df[\"turbidity_NTU\"] <= 5].copy()\n",
    "print(\"Rows with turbidity <= 5 NTU:\", len(df_turbidity_ok))"
   ]
  },
  {
   "cell_type": "code",
   "execution_count": 21,
   "id": "c09450aa",
   "metadata": {},
   "outputs": [
    {
     "name": "stdout",
     "output_type": "stream",
     "text": [
      "\n",
      "--- Willow Creek sample ---\n",
      "  site_id       date  nitrate_mgL  phosphate_mgL  turbidity_NTU  temp_C  \\\n",
      "0  WC-001 2025-09-28         2.30           0.12            3.1    14.5   \n",
      "1  WC-002 2025-09-28         2.65           0.05            1.0    13.8   \n",
      "2  WC-003 2025-09-28         5.80           0.06            8.9    12.4   \n",
      "3  WC-004 2025-09-29         0.80           0.03            0.6    10.1   \n",
      "\n",
      "         county state  \n",
      "0  Willow Creek    OR  \n",
      "1  Willow Creek    OR  \n",
      "2  Willow Creek    OR  \n",
      "3  Willow Creek    OR  \n",
      "\n",
      "--- High Nitrate sample ---\n",
      "  site_id       date  nitrate_mgL  phosphate_mgL  turbidity_NTU  temp_C  \\\n",
      "2  WC-003 2025-09-28          5.8           0.06            8.9    12.4   \n",
      "4  WC-005 2025-09-29         12.1           0.20           15.2    10.1   \n",
      "8  WC-009 2025-10-01          7.4           0.15           12.0    10.0   \n",
      "\n",
      "         county state  \n",
      "2  Willow Creek    OR  \n",
      "4    North Fork    OR  \n",
      "8    South Fork    OR  \n",
      "\n",
      "--- Low turbidity sample ---\n",
      "  site_id       date  nitrate_mgL  phosphate_mgL  turbidity_NTU  temp_C  \\\n",
      "0  WC-001 2025-09-28         2.30           0.12            3.1    14.5   \n",
      "1  WC-002 2025-09-28         2.65           0.05            1.0    13.8   \n",
      "3  WC-004 2025-09-29         0.80           0.03            0.6    10.1   \n",
      "5  WC-006 2025-09-30         2.65           0.07            2.2    11.0   \n",
      "6  WC-007 2025-09-30         3.00           0.02            2.2     9.7   \n",
      "\n",
      "         county state  \n",
      "0  Willow Creek    OR  \n",
      "1  Willow Creek    OR  \n",
      "3  Willow Creek    OR  \n",
      "5    North Fork    OR  \n",
      "6    South Fork    OR  \n"
     ]
    }
   ],
   "source": [
    "# quick look at first few results from each\n",
    "print(\"\\n--- Willow Creek sample ---\")\n",
    "print(df_willow.head())\n",
    "print(\"\\n--- High Nitrate sample ---\")\n",
    "print(df_nitrate_high.head())\n",
    "print(\"\\n--- Low turbidity sample ---\")\n",
    "print(df_turbidity_ok.head())"
   ]
  },
  {
   "cell_type": "code",
   "execution_count": null,
   "id": "fabf9ffe",
   "metadata": {},
   "outputs": [],
   "source": []
  }
 ],
 "metadata": {
  "kernelspec": {
   "display_name": ".venv",
   "language": "python",
   "name": "python3"
  },
  "language_info": {
   "codemirror_mode": {
    "name": "ipython",
    "version": 3
   },
   "file_extension": ".py",
   "mimetype": "text/x-python",
   "name": "python",
   "nbconvert_exporter": "python",
   "pygments_lexer": "ipython3",
   "version": "3.13.7"
  }
 },
 "nbformat": 4,
 "nbformat_minor": 5
}
