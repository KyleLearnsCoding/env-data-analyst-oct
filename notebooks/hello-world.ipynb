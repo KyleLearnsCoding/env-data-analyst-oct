{
 "cells": [
  {
   "cell_type": "code",
   "execution_count": 3,
   "id": "114874ba",
   "metadata": {},
   "outputs": [
    {
     "name": "stdout",
     "output_type": "stream",
     "text": [
      "c:\\Users\\chamb\\.venv\\Scripts\\python.exe\n",
      "Python: 3.13.7 (tags/v3.13.7:bcee1c3, Aug 14 2025, 14:15:11) [MSC v.1944 64 bit (AMD64)]\n",
      "pandas: 2.3.3 | numpy: 2.3.3\n"
     ]
    }
   ],
   "source": [
    "import sys, pandas as pd, numpy as np\n",
    "print(sys.executable)\n",
    "print(\"Python:\", sys.version)\n",
    "print(\"pandas:\", pd.__version__, \"| numpy:\", np.__version__)\n"
   ]
  },
  {
   "cell_type": "code",
   "execution_count": 1,
   "id": "3b8ba3c2",
   "metadata": {},
   "outputs": [
    {
     "data": {
      "text/plain": [
       "('Wetland-Alpha', 42, 21.7, True)"
      ]
     },
     "execution_count": 1,
     "metadata": {},
     "output_type": "execute_result"
    }
   ],
   "source": [
    "# Basic variables for an environmental site\n",
    "site_name = \"Wetland-Alpha\"     # string\n",
    "samples_collected = 42          # integer\n",
    "avg_temp_c = 21.7               # float\n",
    "is_wetland = True               # boolean\n",
    "\n",
    "site_name, samples_collected, avg_temp_c, is_wetland\n"
   ]
  },
  {
   "cell_type": "code",
   "execution_count": 2,
   "id": "6d150ed7",
   "metadata": {},
   "outputs": [
    {
     "data": {
      "text/plain": [
       "(str, int, float, bool)"
      ]
     },
     "execution_count": 2,
     "metadata": {},
     "output_type": "execute_result"
    }
   ],
   "source": [
    "type(site_name), type(samples_collected), type(avg_temp_c), type(is_wetland)\n"
   ]
  }
 ],
 "metadata": {
  "kernelspec": {
   "display_name": "Python (envlite)",
   "language": "python",
   "name": "envlite"
  },
  "language_info": {
   "codemirror_mode": {
    "name": "ipython",
    "version": 3
   },
   "file_extension": ".py",
   "mimetype": "text/x-python",
   "name": "python",
   "nbconvert_exporter": "python",
   "pygments_lexer": "ipython3",
   "version": "3.13.7"
  }
 },
 "nbformat": 4,
 "nbformat_minor": 5
}
