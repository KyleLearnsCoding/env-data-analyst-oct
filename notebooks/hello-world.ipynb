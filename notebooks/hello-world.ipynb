{
 "cells": [
  {
   "cell_type": "code",
   "execution_count": 3,
   "id": "114874ba",
   "metadata": {},
   "outputs": [
    {
     "name": "stdout",
     "output_type": "stream",
     "text": [
      "c:\\Users\\chamb\\.venv\\Scripts\\python.exe\n",
      "Python: 3.13.7 (tags/v3.13.7:bcee1c3, Aug 14 2025, 14:15:11) [MSC v.1944 64 bit (AMD64)]\n",
      "pandas: 2.3.3 | numpy: 2.3.3\n"
     ]
    }
   ],
   "source": [
    "import sys, pandas as pd, numpy as np\n",
    "print(sys.executable)\n",
    "print(\"Python:\", sys.version)\n",
    "print(\"pandas:\", pd.__version__, \"| numpy:\", np.__version__)\n"
   ]
  },
  {
   "cell_type": "code",
   "execution_count": 1,
   "id": "3b8ba3c2",
   "metadata": {},
   "outputs": [
    {
     "data": {
      "text/plain": [
       "('Wetland-Alpha', 42, 21.7, True)"
      ]
     },
     "execution_count": 1,
     "metadata": {},
     "output_type": "execute_result"
    }
   ],
   "source": [
    "# Basic variables for an environmental site\n",
    "site_name = \"Wetland-Alpha\"     # string\n",
    "samples_collected = 42          # integer\n",
    "avg_temp_c = 21.7               # float\n",
    "is_wetland = True               # boolean\n",
    "\n",
    "site_name, samples_collected, avg_temp_c, is_wetland\n"
   ]
  },
  {
   "cell_type": "code",
   "execution_count": 2,
   "id": "6d150ed7",
   "metadata": {},
   "outputs": [
    {
     "data": {
      "text/plain": [
       "(str, int, float, bool)"
      ]
     },
     "execution_count": 2,
     "metadata": {},
     "output_type": "execute_result"
    }
   ],
   "source": [
    "type(site_name), type(samples_collected), type(avg_temp_c), type(is_wetland)\n"
   ]
  },
  {
   "cell_type": "code",
   "execution_count": 2,
   "id": "ab411d04",
   "metadata": {},
   "outputs": [
    {
     "name": "stdout",
     "output_type": "stream",
     "text": [
      "DB file: C:\\Users\\chamb\\env-data-analyst-oct\\notebooks\\data\\test.db\n"
     ]
    },
    {
     "data": {
      "text/html": [
       "<div>\n",
       "<style scoped>\n",
       "    .dataframe tbody tr th:only-of-type {\n",
       "        vertical-align: middle;\n",
       "    }\n",
       "\n",
       "    .dataframe tbody tr th {\n",
       "        vertical-align: top;\n",
       "    }\n",
       "\n",
       "    .dataframe thead th {\n",
       "        text-align: right;\n",
       "    }\n",
       "</style>\n",
       "<table border=\"1\" class=\"dataframe\">\n",
       "  <thead>\n",
       "    <tr style=\"text-align: right;\">\n",
       "      <th></th>\n",
       "      <th>id</th>\n",
       "      <th>name</th>\n",
       "      <th>ph</th>\n",
       "    </tr>\n",
       "  </thead>\n",
       "  <tbody>\n",
       "    <tr>\n",
       "      <th>0</th>\n",
       "      <td>1</td>\n",
       "      <td>Wetland-Alpha</td>\n",
       "      <td>7.2</td>\n",
       "    </tr>\n",
       "  </tbody>\n",
       "</table>\n",
       "</div>"
      ],
      "text/plain": [
       "   id           name   ph\n",
       "0   1  Wetland-Alpha  7.2"
      ]
     },
     "execution_count": 2,
     "metadata": {},
     "output_type": "execute_result"
    }
   ],
   "source": [
    "from pathlib import Path\n",
    "import sqlite3\n",
    "import pandas as pd\n",
    "\n",
    "#1) Create /data if it doesnt exist\n",
    "Path(\"data\").mkdir(exist_ok=True)\n",
    "\n",
    "#2) Connect to a local SQLite file DB\n",
    "db_path = Path(\"data/test.db\")\n",
    "conn = sqlite3.connect(db_path)\n",
    "\n",
    "#3) Create a table + insert one row\n",
    "with conn:\n",
    "    conn.execute(\"\"\"\n",
    "                CREATE TABLE IF NOT EXISTS sites (\n",
    "                    id INTEGER PRIMARY KEY,\n",
    "                    name TEXT NOT NULL,\n",
    "                    ph REAL\n",
    "                )\n",
    "    \"\"\")\n",
    "    conn.execute(\"INSERT INTO sites (name, ph) VALUES (?,?)\", (\"Wetland-Alpha\", 7.2))\n",
    "\n",
    "#4) Read back with pandas (nice display)\n",
    "df = pd.read_sql_query(\"SELECT id, name, ph FROM sites\", conn)\n",
    "conn.close()\n",
    "\n",
    "print(f\"DB file: {db_path.resolve()}\")\n",
    "df"
   ]
  }
 ],
 "metadata": {
  "kernelspec": {
   "display_name": "Python (envlite)",
   "language": "python",
   "name": "envlite"
  },
  "language_info": {
   "codemirror_mode": {
    "name": "ipython",
    "version": 3
   },
   "file_extension": ".py",
   "mimetype": "text/x-python",
   "name": "python",
   "nbconvert_exporter": "python",
   "pygments_lexer": "ipython3",
   "version": "3.13.7"
  }
 },
 "nbformat": 4,
 "nbformat_minor": 5
}
