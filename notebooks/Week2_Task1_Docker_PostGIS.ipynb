{
 "cells": [
  {
   "cell_type": "code",
   "execution_count": 14,
   "id": "a7304dfa",
   "metadata": {},
   "outputs": [
    {
     "name": "stdout",
     "output_type": "stream",
     "text": [
      "Note: you may need to restart the kernel to use updated packages.\n"
     ]
    },
    {
     "name": "stderr",
     "output_type": "stream",
     "text": [
      "ERROR: Invalid requirement: '#for...SQL': Expected package name at the start of dependency specifier\n",
      "    #for...SQL\n",
      "    ^\n"
     ]
    }
   ],
   "source": [
    "#Install dependencies\n",
    "%pip install -q sqlalchemy psycopg[binary] pandas python-dotenv #for...SQL engine, PostgreSQL driver, DataFrames, for loading .env files"
   ]
  },
  {
   "cell_type": "code",
   "execution_count": 15,
   "id": "6405655f",
   "metadata": {},
   "outputs": [
    {
     "name": "stdout",
     "output_type": "stream",
     "text": [
      "All imports OK\n"
     ]
    }
   ],
   "source": [
    "#Quick sanity check\n",
    "import sqlalchemy\n",
    "import psycopg\n",
    "import pandas\n",
    "import dotenv\n",
    "\n",
    "print(\"All imports OK\")"
   ]
  },
  {
   "cell_type": "code",
   "execution_count": 16,
   "id": "76c65f90",
   "metadata": {},
   "outputs": [
    {
     "data": {
      "text/plain": [
       "True"
      ]
     },
     "execution_count": 16,
     "metadata": {},
     "output_type": "execute_result"
    }
   ],
   "source": [
    "#Load .env file\n",
    "from dotenv import load_dotenv\n",
    "load_dotenv()"
   ]
  },
  {
   "cell_type": "code",
   "execution_count": 17,
   "id": "d03911c3",
   "metadata": {},
   "outputs": [
    {
     "name": "stdout",
     "output_type": "stream",
     "text": [
      "PostgreSQL 16.4 (Debian 16.4-1.pgdg110+2) on x86_64-pc-linux-gnu, compiled by gcc (Debian 10.2.1-6) 10.2.1 20210110, 64-bit\n"
     ]
    }
   ],
   "source": [
    "#Create an engine (connection between Python and PostgreSQL) & test the connection\n",
    "import os\n",
    "from sqlalchemy import create_engine, text\n",
    "\n",
    "DB_USER = os.getenv(\"PGUSER\", \"env_user\")\n",
    "DB_PASS = os.getenv(\"PGPASSWORD\", \"env_pass\")\n",
    "DB_NAME = os.getenv(\"PGDATABASE\", \"envdb\")\n",
    "DB_HOST = os.getenv(\"PGHOST\", \"localhost\")\n",
    "DB_PORT = os.getenv(\"PGPORT\", \"5433\")  # change to \"5433\" if you remapped\n",
    "\n",
    "engine = create_engine(\n",
    "    f\"postgresql+psycopg://{DB_USER}:{DB_PASS}@{DB_HOST}:{DB_PORT}/{DB_NAME}\"\n",
    ")\n",
    "\n",
    "with engine.connect() as conn:\n",
    "    print(conn.execute(text(\"SELECT version();\")).scalar_one())"
   ]
  },
  {
   "cell_type": "code",
   "execution_count": 23,
   "id": "2a0a4d3d",
   "metadata": {},
   "outputs": [],
   "source": [
    "#Enable PostGIS\n",
    "from sqlalchemy import text\n",
    "\n",
    "with engine.begin() as conn:\n",
    "    conn.execute(text(\"CREATE EXTENSION IF NOT EXISTS postgis;\"))"
   ]
  },
  {
   "cell_type": "code",
   "execution_count": null,
   "id": "339c84e8",
   "metadata": {},
   "outputs": [
    {
     "name": "stdout",
     "output_type": "stream",
     "text": [
      "server_version: PostgreSQL 16.4 (Debian 16.4-1.pgdg110+2) on x86_64-pc-linux-gnu, compiled by gcc (Debian 10.2.1-6) 10.2.1 20210110, 64-bit\n",
      "server_port   : 5432\n",
      "postgis avail : ['postgis_topology-3', 'postgis_sfcgal-3', 'postgis', 'postgis-3', 'postgis_raster-3', 'postgis_tiger_geocoder-3', 'postgis_topology', 'postgis_sfcgal', 'postgis_raster', 'postgis_tiger_geocoder']\n"
     ]
    }
   ],
   "source": [
    "#confirm you’re now talking to the Docker PostGIS container \n",
    "from sqlalchemy import create_engine, text\n",
    "import os\n",
    "from dotenv import load_dotenv\n",
    "\n",
    "load_dotenv(override=True)\n",
    "\n",
    "engine = create_engine(\n",
    "    f\"postgresql+psycopg://{os.getenv('PGUSER')}:{os.getenv('PGPASSWORD')}\"\n",
    "    f\"@{os.getenv('PGHOST')}:{os.getenv('PGPORT')}/{os.getenv('PGDATABASE')}\"\n",
    ")\n",
    "\n",
    "with engine.connect() as conn:\n",
    "    print(\"server_version:\", conn.execute(text(\"SELECT version();\")).scalar_one())\n",
    "    print(\"server_port   :\", conn.execute(text(\"SELECT inet_server_port();\")).scalar_one())\n",
    "    print(\"postgis avail :\", conn.execute(text(\n",
    "        \"SELECT array_agg(name) FROM pg_available_extensions WHERE name LIKE 'postgis%';\"\n",
    "    )).scalar_one())"
   ]
  },
  {
   "cell_type": "code",
   "execution_count": 22,
   "id": "551ce029",
   "metadata": {},
   "outputs": [
    {
     "name": "stdout",
     "output_type": "stream",
     "text": [
      "PGPORT from env: 5433\n"
     ]
    }
   ],
   "source": [
    "#double-check you’re using host port 5433 from Python\n",
    "import os\n",
    "print(\"PGPORT from env:\", os.getenv(\"PGPORT\"))"
   ]
  },
  {
   "cell_type": "code",
   "execution_count": null,
   "id": "51a79dcd",
   "metadata": {},
   "outputs": [],
   "source": [
    "# Inside Docker:\n",
    "#PostgreSQL (with PostGIS) is listening on port 5432 inside the container.\n",
    "#→ That’s why inet_server_port() returns 5432.\n",
    "\n",
    "# On your host (Windows):\n",
    "#Docker maps your host’s port 5433 → container’s port 5432.\n",
    "#→ So from outside the container (Python, pgAdmin, etc.), you connect through localhost:5433.\n",
    "\n",
    "#this allows you to work within a custom environment via Docker, distinct from your PC's native environment (the collection of settings/applications)"
   ]
  },
  {
   "cell_type": "code",
   "execution_count": 25,
   "id": "593b8b31",
   "metadata": {},
   "outputs": [
    {
     "data": {
      "text/html": [
       "<div>\n",
       "<style scoped>\n",
       "    .dataframe tbody tr th:only-of-type {\n",
       "        vertical-align: middle;\n",
       "    }\n",
       "\n",
       "    .dataframe tbody tr th {\n",
       "        vertical-align: top;\n",
       "    }\n",
       "\n",
       "    .dataframe thead th {\n",
       "        text-align: right;\n",
       "    }\n",
       "</style>\n",
       "<table border=\"1\" class=\"dataframe\">\n",
       "  <thead>\n",
       "    <tr style=\"text-align: right;\">\n",
       "      <th></th>\n",
       "      <th>n_rows</th>\n",
       "    </tr>\n",
       "  </thead>\n",
       "  <tbody>\n",
       "    <tr>\n",
       "      <th>0</th>\n",
       "      <td>15</td>\n",
       "    </tr>\n",
       "  </tbody>\n",
       "</table>\n",
       "</div>"
      ],
      "text/plain": [
       "   n_rows\n",
       "0      15"
      ]
     },
     "execution_count": 25,
     "metadata": {},
     "output_type": "execute_result"
    }
   ],
   "source": [
    "#Create water_quality table and load sample data\n",
    "\n",
    "from sqlalchemy import text\n",
    "import pandas as pd\n",
    "\n",
    "ddl = \"\"\"\n",
    "CREATE TABLE IF NOT EXISTS water_quality (\n",
    "    sample_id   INTEGER PRIMARY KEY,\n",
    "    site        TEXT,\n",
    "    date        DATE,\n",
    "    parameter   TEXT,\n",
    "    value       DOUBLE PRECISION,\n",
    "    units       TEXT\n",
    ");\n",
    "\"\"\"\n",
    "with engine.begin() as conn:\n",
    "    conn.execute(text(ddl))\n",
    "\n",
    "data = [\n",
    "    (1,  \"Willow Creek\",    \"2025-08-12\", \"NO3_N\", 2.3,  \"mg/L\"),\n",
    "    (2,  \"Willow Creek\",    \"2025-09-02\", \"NO3_N\", 1.8,  \"mg/L\"),\n",
    "    (3,  \"Willow Creek\",    \"2025-09-28\", \"NO3_N\", 2.9,  \"mg/L\"),\n",
    "    (4,  \"Bear River\",      \"2025-08-15\", \"NO3_N\", 0.9,  \"mg/L\"),\n",
    "    (5,  \"Bear River\",      \"2025-09-04\", \"NO3_N\", 1.2,  \"mg/L\"),\n",
    "    (6,  \"Bear River\",      \"2025-09-20\", \"NO3_N\", 0.7,  \"mg/L\"),\n",
    "    (7,  \"Columbia Slough\", \"2025-08-10\", \"NO3_N\", 3.1,  \"mg/L\"),\n",
    "    (8,  \"Columbia Slough\", \"2025-08-30\", \"NO3_N\", 2.7,  \"mg/L\"),\n",
    "    (9,  \"Columbia Slough\", \"2025-09-21\", \"NO3_N\", 3.8,  \"mg/L\"),\n",
    "    (10, \"Willow Creek\",    \"2025-08-12\", \"TP\",    0.08, \"mg/L\"),\n",
    "    (11, \"Willow Creek\",    \"2025-09-02\", \"TP\",    0.05, \"mg/L\"),\n",
    "    (12, \"Bear River\",      \"2025-08-15\", \"TP\",    0.03, \"mg/L\"),\n",
    "    (13, \"Bear River\",      \"2025-09-20\", \"TP\",    0.04, \"mg/L\"),\n",
    "    (14, \"Columbia Slough\", \"2025-08-10\", \"TP\",    0.11, \"mg/L\"),\n",
    "    (15, \"Columbia Slough\", \"2025-09-21\", \"TP\",    0.09, \"mg/L\"),\n",
    "]\n",
    "df = pd.DataFrame(data, columns=[\"sample_id\",\"site\",\"date\",\"parameter\",\"value\",\"units\"])\n",
    "df.to_sql(\"water_quality\", engine, if_exists=\"replace\", index=False)\n",
    "\n",
    "pd.read_sql_query(\"SELECT COUNT(*) AS n_rows FROM water_quality;\", engine)"
   ]
  },
  {
   "cell_type": "code",
   "execution_count": null,
   "id": "970bce0b",
   "metadata": {},
   "outputs": [
    {
     "data": {
      "text/html": [
       "<div>\n",
       "<style scoped>\n",
       "    .dataframe tbody tr th:only-of-type {\n",
       "        vertical-align: middle;\n",
       "    }\n",
       "\n",
       "    .dataframe tbody tr th {\n",
       "        vertical-align: top;\n",
       "    }\n",
       "\n",
       "    .dataframe thead th {\n",
       "        text-align: right;\n",
       "    }\n",
       "</style>\n",
       "<table border=\"1\" class=\"dataframe\">\n",
       "  <thead>\n",
       "    <tr style=\"text-align: right;\">\n",
       "      <th></th>\n",
       "      <th>site</th>\n",
       "      <th>date</th>\n",
       "      <th>parameter</th>\n",
       "      <th>value</th>\n",
       "    </tr>\n",
       "  </thead>\n",
       "  <tbody>\n",
       "    <tr>\n",
       "      <th>0</th>\n",
       "      <td>Columbia Slough</td>\n",
       "      <td>2025-09-21</td>\n",
       "      <td>NO3_N</td>\n",
       "      <td>3.8</td>\n",
       "    </tr>\n",
       "    <tr>\n",
       "      <th>1</th>\n",
       "      <td>Columbia Slough</td>\n",
       "      <td>2025-08-10</td>\n",
       "      <td>NO3_N</td>\n",
       "      <td>3.1</td>\n",
       "    </tr>\n",
       "    <tr>\n",
       "      <th>2</th>\n",
       "      <td>Willow Creek</td>\n",
       "      <td>2025-09-28</td>\n",
       "      <td>NO3_N</td>\n",
       "      <td>2.9</td>\n",
       "    </tr>\n",
       "    <tr>\n",
       "      <th>3</th>\n",
       "      <td>Columbia Slough</td>\n",
       "      <td>2025-08-30</td>\n",
       "      <td>NO3_N</td>\n",
       "      <td>2.7</td>\n",
       "    </tr>\n",
       "    <tr>\n",
       "      <th>4</th>\n",
       "      <td>Willow Creek</td>\n",
       "      <td>2025-08-12</td>\n",
       "      <td>NO3_N</td>\n",
       "      <td>2.3</td>\n",
       "    </tr>\n",
       "  </tbody>\n",
       "</table>\n",
       "</div>"
      ],
      "text/plain": [
       "              site        date parameter  value\n",
       "0  Columbia Slough  2025-09-21     NO3_N    3.8\n",
       "1  Columbia Slough  2025-08-10     NO3_N    3.1\n",
       "2     Willow Creek  2025-09-28     NO3_N    2.9\n",
       "3  Columbia Slough  2025-08-30     NO3_N    2.7\n",
       "4     Willow Creek  2025-08-12     NO3_N    2.3"
      ]
     },
     "execution_count": 28,
     "metadata": {},
     "output_type": "execute_result"
    }
   ],
   "source": [
    "#Quick queries(same SQL as SQLite, just via SQLAlchemy)\n",
    "\n",
    "from sqlalchemy import text\n",
    "import pandas as pd\n",
    "\n",
    "def run_sql(sql: str, params: dict | None = None):\n",
    "    with engine.connect() as conn:\n",
    "        res = conn.execute(text(sql), params or {})\n",
    "        return pd.DataFrame(res.fetchall(), columns=res.keys())\n",
    "\n",
    "run_sql(\"\"\"\n",
    "SELECT site, date, parameter, value\n",
    "FROM water_quality\n",
    "WHERE parameter = 'NO3_N' AND value > :min_val\n",
    "ORDER BY value DESC;\n",
    "\"\"\", {\"min_val\": 2.0})\n"
   ]
  },
  {
   "cell_type": "code",
   "execution_count": null,
   "id": "e7ebe5a6",
   "metadata": {},
   "outputs": [
    {
     "data": {
      "text/html": [
       "<div>\n",
       "<style scoped>\n",
       "    .dataframe tbody tr th:only-of-type {\n",
       "        vertical-align: middle;\n",
       "    }\n",
       "\n",
       "    .dataframe tbody tr th {\n",
       "        vertical-align: top;\n",
       "    }\n",
       "\n",
       "    .dataframe thead th {\n",
       "        text-align: right;\n",
       "    }\n",
       "</style>\n",
       "<table border=\"1\" class=\"dataframe\">\n",
       "  <thead>\n",
       "    <tr style=\"text-align: right;\">\n",
       "      <th></th>\n",
       "      <th>site</th>\n",
       "      <th>date</th>\n",
       "      <th>parameter</th>\n",
       "      <th>value</th>\n",
       "    </tr>\n",
       "  </thead>\n",
       "  <tbody>\n",
       "    <tr>\n",
       "      <th>0</th>\n",
       "      <td>Columbia Slough</td>\n",
       "      <td>2025-08-10</td>\n",
       "      <td>NO3_N</td>\n",
       "      <td>3.1</td>\n",
       "    </tr>\n",
       "    <tr>\n",
       "      <th>1</th>\n",
       "      <td>Willow Creek</td>\n",
       "      <td>2025-08-12</td>\n",
       "      <td>NO3_N</td>\n",
       "      <td>2.3</td>\n",
       "    </tr>\n",
       "    <tr>\n",
       "      <th>2</th>\n",
       "      <td>Bear River</td>\n",
       "      <td>2025-08-15</td>\n",
       "      <td>NO3_N</td>\n",
       "      <td>0.9</td>\n",
       "    </tr>\n",
       "    <tr>\n",
       "      <th>3</th>\n",
       "      <td>Columbia Slough</td>\n",
       "      <td>2025-08-30</td>\n",
       "      <td>NO3_N</td>\n",
       "      <td>2.7</td>\n",
       "    </tr>\n",
       "    <tr>\n",
       "      <th>4</th>\n",
       "      <td>Willow Creek</td>\n",
       "      <td>2025-09-02</td>\n",
       "      <td>NO3_N</td>\n",
       "      <td>1.8</td>\n",
       "    </tr>\n",
       "    <tr>\n",
       "      <th>5</th>\n",
       "      <td>Bear River</td>\n",
       "      <td>2025-09-04</td>\n",
       "      <td>NO3_N</td>\n",
       "      <td>1.2</td>\n",
       "    </tr>\n",
       "  </tbody>\n",
       "</table>\n",
       "</div>"
      ],
      "text/plain": [
       "              site        date parameter  value\n",
       "0  Columbia Slough  2025-08-10     NO3_N    3.1\n",
       "1     Willow Creek  2025-08-12     NO3_N    2.3\n",
       "2       Bear River  2025-08-15     NO3_N    0.9\n",
       "3  Columbia Slough  2025-08-30     NO3_N    2.7\n",
       "4     Willow Creek  2025-09-02     NO3_N    1.8\n",
       "5       Bear River  2025-09-04     NO3_N    1.2"
      ]
     },
     "execution_count": 27,
     "metadata": {},
     "output_type": "execute_result"
    }
   ],
   "source": [
    "\n",
    "#Quick queries(same SQL as SQLite, just via SQLAlchemy)\n",
    "\n",
    "run_sql(\"\"\"\n",
    "SELECT site, date, parameter, value\n",
    "FROM water_quality\n",
    "WHERE parameter = 'NO3_N' AND date BETWEEN :start AND :end\n",
    "ORDER BY date;\n",
    "\"\"\", {\"start\": \"2025-08-01\", \"end\": \"2025-09-15\"})"
   ]
  },
  {
   "cell_type": "code",
   "execution_count": null,
   "id": "58e34555",
   "metadata": {},
   "outputs": [],
   "source": []
  }
 ],
 "metadata": {
  "kernelspec": {
   "display_name": ".venv",
   "language": "python",
   "name": "python3"
  },
  "language_info": {
   "codemirror_mode": {
    "name": "ipython",
    "version": 3
   },
   "file_extension": ".py",
   "mimetype": "text/x-python",
   "name": "python",
   "nbconvert_exporter": "python",
   "pygments_lexer": "ipython3",
   "version": "3.13.7"
  }
 },
 "nbformat": 4,
 "nbformat_minor": 5
}
